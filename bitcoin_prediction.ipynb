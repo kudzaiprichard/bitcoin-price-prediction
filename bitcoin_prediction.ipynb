{
 "cells": [
  {
   "cell_type": "code",
   "execution_count": 1,
   "id": "initial_id",
   "metadata": {
    "collapsed": true,
    "ExecuteTime": {
     "end_time": "2024-03-11T08:29:23.218626400Z",
     "start_time": "2024-03-11T08:29:23.206616Z"
    }
   },
   "outputs": [],
   "source": [
    "import pandas as pd\n",
    "import numpy as np\n",
    "import matplotlib.pyplot as plt\n",
    "import seaborn as sns\n",
    "plt.style.use('ggplot')\n",
    "pd.set_option('display.max_columns', 200)\n",
    "pd.set_option('display.max_rows', 200)"
   ]
  },
  {
   "cell_type": "code",
   "outputs": [
    {
     "data": {
      "text/plain": "   SNo     Name Symbol                 Date        High         Low  \\\n0    1  Bitcoin    BTC  2013-04-29 23:59:59  147.488007  134.000000   \n1    2  Bitcoin    BTC  2013-04-30 23:59:59  146.929993  134.050003   \n2    3  Bitcoin    BTC  2013-05-01 23:59:59  139.889999  107.720001   \n3    4  Bitcoin    BTC  2013-05-02 23:59:59  125.599998   92.281898   \n4    5  Bitcoin    BTC  2013-05-03 23:59:59  108.127998   79.099998   \n\n         Open       Close  Volume     Marketcap  \n0  134.444000  144.539993     0.0  1.603769e+09  \n1  144.000000  139.000000     0.0  1.542813e+09  \n2  139.000000  116.989998     0.0  1.298955e+09  \n3  116.379997  105.209999     0.0  1.168517e+09  \n4  106.250000   97.750000     0.0  1.085995e+09  ",
      "text/html": "<div>\n<style scoped>\n    .dataframe tbody tr th:only-of-type {\n        vertical-align: middle;\n    }\n\n    .dataframe tbody tr th {\n        vertical-align: top;\n    }\n\n    .dataframe thead th {\n        text-align: right;\n    }\n</style>\n<table border=\"1\" class=\"dataframe\">\n  <thead>\n    <tr style=\"text-align: right;\">\n      <th></th>\n      <th>SNo</th>\n      <th>Name</th>\n      <th>Symbol</th>\n      <th>Date</th>\n      <th>High</th>\n      <th>Low</th>\n      <th>Open</th>\n      <th>Close</th>\n      <th>Volume</th>\n      <th>Marketcap</th>\n    </tr>\n  </thead>\n  <tbody>\n    <tr>\n      <th>0</th>\n      <td>1</td>\n      <td>Bitcoin</td>\n      <td>BTC</td>\n      <td>2013-04-29 23:59:59</td>\n      <td>147.488007</td>\n      <td>134.000000</td>\n      <td>134.444000</td>\n      <td>144.539993</td>\n      <td>0.0</td>\n      <td>1.603769e+09</td>\n    </tr>\n    <tr>\n      <th>1</th>\n      <td>2</td>\n      <td>Bitcoin</td>\n      <td>BTC</td>\n      <td>2013-04-30 23:59:59</td>\n      <td>146.929993</td>\n      <td>134.050003</td>\n      <td>144.000000</td>\n      <td>139.000000</td>\n      <td>0.0</td>\n      <td>1.542813e+09</td>\n    </tr>\n    <tr>\n      <th>2</th>\n      <td>3</td>\n      <td>Bitcoin</td>\n      <td>BTC</td>\n      <td>2013-05-01 23:59:59</td>\n      <td>139.889999</td>\n      <td>107.720001</td>\n      <td>139.000000</td>\n      <td>116.989998</td>\n      <td>0.0</td>\n      <td>1.298955e+09</td>\n    </tr>\n    <tr>\n      <th>3</th>\n      <td>4</td>\n      <td>Bitcoin</td>\n      <td>BTC</td>\n      <td>2013-05-02 23:59:59</td>\n      <td>125.599998</td>\n      <td>92.281898</td>\n      <td>116.379997</td>\n      <td>105.209999</td>\n      <td>0.0</td>\n      <td>1.168517e+09</td>\n    </tr>\n    <tr>\n      <th>4</th>\n      <td>5</td>\n      <td>Bitcoin</td>\n      <td>BTC</td>\n      <td>2013-05-03 23:59:59</td>\n      <td>108.127998</td>\n      <td>79.099998</td>\n      <td>106.250000</td>\n      <td>97.750000</td>\n      <td>0.0</td>\n      <td>1.085995e+09</td>\n    </tr>\n  </tbody>\n</table>\n</div>"
     },
     "execution_count": 2,
     "metadata": {},
     "output_type": "execute_result"
    }
   ],
   "source": [
    "data = pd.read_csv(\"dataset/bitcoin.csv\")\n",
    "data.head()"
   ],
   "metadata": {
    "collapsed": false,
    "ExecuteTime": {
     "end_time": "2024-03-11T08:30:35.323673Z",
     "start_time": "2024-03-11T08:30:35.252644600Z"
    }
   },
   "id": "e2c30d7346a120ec",
   "execution_count": 2
  },
  {
   "cell_type": "code",
   "outputs": [],
   "source": [],
   "metadata": {
    "collapsed": false
   },
   "id": "c4aeec338daea34"
  }
 ],
 "metadata": {
  "kernelspec": {
   "display_name": "Python 3",
   "language": "python",
   "name": "python3"
  },
  "language_info": {
   "codemirror_mode": {
    "name": "ipython",
    "version": 2
   },
   "file_extension": ".py",
   "mimetype": "text/x-python",
   "name": "python",
   "nbconvert_exporter": "python",
   "pygments_lexer": "ipython2",
   "version": "2.7.6"
  }
 },
 "nbformat": 4,
 "nbformat_minor": 5
}
